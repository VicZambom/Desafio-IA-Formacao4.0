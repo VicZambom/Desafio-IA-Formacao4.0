{
 "cells": [
  {
   "cell_type": "markdown",
   "id": "b8813eb6",
   "metadata": {},
   "source": [
    "##### Importação dos dados processados"
   ]
  },
  {
   "cell_type": "code",
   "execution_count": 1,
   "id": "98ff4b58",
   "metadata": {},
   "outputs": [],
   "source": [
    "import pandas as pd\n",
    "\n",
    "df = pd.read_csv('dados_preprocessados.csv')"
   ]
  },
  {
   "cell_type": "code",
   "execution_count": 2,
   "id": "2f2263f4",
   "metadata": {},
   "outputs": [
    {
     "name": "stdout",
     "output_type": "stream",
     "text": [
      "Index(['Pregnancies', 'Glucose', 'BloodPressure', 'SkinThickness', 'Insulin',\n",
      "       'BMI', 'DiabetesPedigreeFunction', 'Age', 'Outcome'],\n",
      "      dtype='object')\n"
     ]
    }
   ],
   "source": [
    "print(df.columns)\n"
   ]
  },
  {
   "cell_type": "markdown",
   "id": "55e3e09f",
   "metadata": {},
   "source": [
    "##### Features e target"
   ]
  },
  {
   "cell_type": "code",
   "execution_count": 3,
   "id": "8f70d145",
   "metadata": {},
   "outputs": [],
   "source": [
    "X = df.drop('Outcome', axis=1)\n",
    "y = df['Outcome']\n"
   ]
  },
  {
   "cell_type": "markdown",
   "id": "0d1428cc",
   "metadata": {},
   "source": [
    "##### Importação de modelos e funções"
   ]
  },
  {
   "cell_type": "code",
   "execution_count": 4,
   "id": "6f9121fe",
   "metadata": {},
   "outputs": [],
   "source": [
    "from sklearn.model_selection import train_test_split\n",
    "from sklearn.linear_model import LogisticRegression\n",
    "from sklearn.tree import DecisionTreeClassifier\n",
    "from sklearn.metrics import accuracy_score\n",
    "import numpy as np\n"
   ]
  },
  {
   "cell_type": "markdown",
   "id": "8751c8d3",
   "metadata": {},
   "source": [
    "##### Armazenamento de resultados"
   ]
  },
  {
   "cell_type": "code",
   "execution_count": null,
   "id": "8d5d1573",
   "metadata": {},
   "outputs": [],
   "source": [
    "accuracies_lr = []   # Regressão Logistica\n",
    "accuracies_dt = []   # Árbore de Decisão\n"
   ]
  },
  {
   "cell_type": "code",
   "execution_count": 6,
   "id": "6893dc74",
   "metadata": {},
   "outputs": [],
   "source": [
    "# treino-teste 30 vezes\n",
    "\n",
    "for i in range(30):\n",
    "    X_train, X_test, y_train, y_test = train_test_split(X, y, test_size=0.3, random_state=i)\n",
    "\n",
    "    # Modelo 1: Regressão Logística\n",
    "    lr = LogisticRegression(max_iter=1000)\n",
    "    lr.fit(X_train, y_train)\n",
    "    y_pred_lr = lr.predict(X_test)\n",
    "    acc_lr = accuracy_score(y_test, y_pred_lr)\n",
    "    accuracies_lr.append(acc_lr)\n",
    "\n",
    "    # Modelo 2: Árvore de Decisão\n",
    "    dt = DecisionTreeClassifier()\n",
    "    dt.fit(X_train, y_train)\n",
    "    y_pred_dt = dt.predict(X_test)\n",
    "    acc_dt = accuracy_score(y_test, y_pred_dt)\n",
    "    accuracies_dt.append(acc_dt)\n"
   ]
  },
  {
   "cell_type": "code",
   "execution_count": 7,
   "id": "5a8a635d",
   "metadata": {},
   "outputs": [
    {
     "name": "stdout",
     "output_type": "stream",
     "text": [
      "Regressão Logística:\n",
      "Média da acurácia: 0.7645021645021645\n",
      "Desvio padrão: 0.026084421481670006\n",
      "\n",
      "Árvore de Decisão:\n",
      "Média da acurácia: 0.6930735930735932\n",
      "Desvio padrão: 0.02395599705019633\n"
     ]
    }
   ],
   "source": [
    "#Média e desvio padrão\n",
    "\n",
    "print(\"Regressão Logística:\")\n",
    "print(\"Média da acurácia:\", np.mean(accuracies_lr))\n",
    "print(\"Desvio padrão:\", np.std(accuracies_lr))\n",
    "\n",
    "print(\"\\nÁrvore de Decisão:\")\n",
    "print(\"Média da acurácia:\", np.mean(accuracies_dt))\n",
    "print(\"Desvio padrão:\", np.std(accuracies_dt))\n"
   ]
  },
  {
   "cell_type": "markdown",
   "id": "85f21396",
   "metadata": {},
   "source": [
    "##### Melhor modelo"
   ]
  },
  {
   "cell_type": "code",
   "execution_count": 8,
   "id": "c94af980",
   "metadata": {},
   "outputs": [],
   "source": [
    "import pickle\n",
    "\n",
    "best_model = LogisticRegression(max_iter=1000)\n",
    "best_model.fit(X, y)\n",
    "\n",
    "with open('melhor_modelo.pkl', 'wb') as f:\n",
    "    pickle.dump(best_model, f)\n"
   ]
  }
 ],
 "metadata": {
  "kernelspec": {
   "display_name": ".venv",
   "language": "python",
   "name": "python3"
  },
  "language_info": {
   "codemirror_mode": {
    "name": "ipython",
    "version": 3
   },
   "file_extension": ".py",
   "mimetype": "text/x-python",
   "name": "python",
   "nbconvert_exporter": "python",
   "pygments_lexer": "ipython3",
   "version": "3.13.1"
  }
 },
 "nbformat": 4,
 "nbformat_minor": 5
}
